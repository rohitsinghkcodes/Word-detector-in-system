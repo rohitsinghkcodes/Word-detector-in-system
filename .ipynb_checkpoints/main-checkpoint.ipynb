{
 "cells": [
  {
   "cell_type": "code",
   "execution_count": 10,
   "metadata": {},
   "outputs": [],
   "source": [
    "#importing the modules\n",
    "import os"
   ]
  },
  {
   "cell_type": "code",
   "execution_count": 11,
   "metadata": {},
   "outputs": [
    {
     "name": "stdout",
     "output_type": "stream",
     "text": [
      "['.ipynb_checkpoints', 'main.ipynb', 'TextFile1.txt', 'TextFile2.txt']\n"
     ]
    }
   ],
   "source": [
    "dir_contents = os.listdir()\n",
    "\n",
    "#printing the contents of dir\n",
    "print(dir_contents)"
   ]
  },
  {
   "cell_type": "code",
   "execution_count": 15,
   "metadata": {},
   "outputs": [],
   "source": [
    "#function for checking the presence\n",
    "def wordCheck(fileName,word):\n",
    "    with open(fileName,'r') as f:\n",
    "        fileContent = f.read()\n",
    "    \n",
    "    #Detectinf the word\n",
    "    if word.lower() in fileContent.lower():\n",
    "        return True\n",
    "    else:\n",
    "        return False\n",
    "        "
   ]
  },
  {
   "cell_type": "code",
   "execution_count": null,
   "metadata": {},
   "outputs": [],
   "source": [
    "def detection():\n",
    "    #for the input of word to be checked in the files\n",
    "    word = input('Enter the word to be scanned: ')\n",
    "\n",
    "    nWordCount = 0\n",
    "    #for detection system\n",
    "    for item in dir_contents:\n",
    "        if item.endswith('txt'):\n",
    "            print(f'\\nDetecting {word} in {item} ...')\n",
    "            setFlag = wordCheck(item,word)\n",
    "            if (setFlag):\n",
    "                print(f'=> {word} FOUND in {item}')\n",
    "                nWordCount+=1\n",
    "            else:\n",
    "                print(f'=> {word} NOT FOUND in {item}')\n",
    "\n",
    "\n",
    "    #for printing the summary\n",
    "    print('\\n*****PRINTING THE SCANNING SUMMARY*****\\n')\n",
    "    print(f'--> {nWordCount} files found containing {word} in them')\n",
    "    \n",
    "    #for enterring more choice\n",
    "    choice  = input('Do you want to search more?\\nyes/no')"
   ]
  },
  {
   "cell_type": "code",
   "execution_count": null,
   "metadata": {},
   "outputs": [],
   "source": [
    "#Detection system main \n",
    "choice = 'yes'\n",
    "while(choice.lower()=='yes'):\n",
    "    detection()"
   ]
  },
  {
   "cell_type": "code",
   "execution_count": null,
   "metadata": {},
   "outputs": [],
   "source": []
  }
 ],
 "metadata": {
  "kernelspec": {
   "display_name": "Python 3",
   "language": "python",
   "name": "python3"
  },
  "language_info": {
   "codemirror_mode": {
    "name": "ipython",
    "version": 3
   },
   "file_extension": ".py",
   "mimetype": "text/x-python",
   "name": "python",
   "nbconvert_exporter": "python",
   "pygments_lexer": "ipython3",
   "version": "3.8.3"
  }
 },
 "nbformat": 4,
 "nbformat_minor": 4
}
