{
 "cells": [
  {
   "cell_type": "code",
   "execution_count": 2,
   "metadata": {},
   "outputs": [],
   "source": [
    "#importing the modules\n",
    "import os"
   ]
  },
  {
   "cell_type": "code",
   "execution_count": 3,
   "metadata": {},
   "outputs": [
    {
     "output_type": "stream",
     "name": "stdout",
     "text": [
      "['.git', '.ipynb_checkpoints', 'Facebook Info.txt', 'Insta Info.txt', 'main.ipynb', 'Twitter Info.txt', 'Whatsapp Info.txt']\n"
     ]
    }
   ],
   "source": [
    "dir_contents = os.listdir()\n",
    "\n",
    "#printing the contents of dir\n",
    "print(dir_contents)"
   ]
  },
  {
   "cell_type": "code",
   "execution_count": 4,
   "metadata": {},
   "outputs": [],
   "source": [
    "#function for checking the presence\n",
    "def wordCheck(fileName,word):\n",
    "    with open(fileName,'r') as f:\n",
    "        fileContent = f.read()\n",
    "    \n",
    "    #Detectinf the word\n",
    "    if word.lower() in fileContent.lower():\n",
    "        return True\n",
    "    else:\n",
    "        return False\n",
    "        "
   ]
  },
  {
   "cell_type": "code",
   "execution_count": 5,
   "metadata": {},
   "outputs": [],
   "source": [
    "def detection():\n",
    "    #for the input of word to be checked in the files\n",
    "    word = input('Enter the word to be scanned: ')\n",
    "\n",
    "    nWordCount = 0\n",
    "    #for detection system\n",
    "    for item in dir_contents:\n",
    "        if item.endswith('txt'):\n",
    "            print(f'\\nDetecting {word} in {item} ...')\n",
    "            setFlag = wordCheck(item,word)\n",
    "            if (setFlag):\n",
    "                print(f'=> {word} FOUND in {item}')\n",
    "                nWordCount+=1\n",
    "            else:\n",
    "                print(f'=> {word} NOT FOUND in {item}')\n",
    "\n",
    "\n",
    "    #for printing the summary\n",
    "    print('\\n*****PRINTING THE SCANNING SUMMARY*****\\n')\n",
    "    print(f'--> {nWordCount} text document found containing {word} in it')\n",
    "    \n",
    "    "
   ]
  },
  {
   "cell_type": "code",
   "execution_count": 6,
   "metadata": {},
   "outputs": [
    {
     "output_type": "stream",
     "name": "stdout",
     "text": [
      "yes\n",
      "\n",
      "Detecting hello in Facebook Info.txt ...\n",
      "=> hello NOT FOUND in Facebook Info.txt\n",
      "\n",
      "Detecting hello in Insta Info.txt ...\n",
      "=> hello NOT FOUND in Insta Info.txt\n",
      "\n",
      "Detecting hello in Twitter Info.txt ...\n",
      "=> hello NOT FOUND in Twitter Info.txt\n",
      "\n",
      "Detecting hello in Whatsapp Info.txt ...\n",
      "=> hello NOT FOUND in Whatsapp Info.txt\n",
      "\n",
      "*****PRINTING THE SCANNING SUMMARY*****\n",
      "\n",
      "--> 0 text document found containing hello in it\n"
     ]
    }
   ],
   "source": [
    "#Detection system main \n",
    "choice = 'yes'\n",
    "while(choice.lower()=='yes'):\n",
    "    detection()\n",
    "    #for enterring more choice\n",
    "    choice  = input('Do you want to search more?\\nyes/no')"
   ]
  },
  {
   "cell_type": "code",
   "execution_count": null,
   "metadata": {},
   "outputs": [],
   "source": []
  }
 ],
 "metadata": {
  "kernelspec": {
   "display_name": "Python 3",
   "language": "python",
   "name": "python3"
  },
  "language_info": {
   "codemirror_mode": {
    "name": "ipython",
    "version": 3
   },
   "file_extension": ".py",
   "mimetype": "text/x-python",
   "name": "python",
   "nbconvert_exporter": "python",
   "pygments_lexer": "ipython3",
   "version": "3.8.3-final"
  }
 },
 "nbformat": 4,
 "nbformat_minor": 4
}